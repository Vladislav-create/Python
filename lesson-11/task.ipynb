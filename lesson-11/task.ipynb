{
 "cells": [
  {
   "cell_type": "code",
   "execution_count": null,
   "metadata": {},
   "outputs": [],
   "source": [
    "# 5x^2+10x-30"
   ]
  },
  {
   "cell_type": "code",
   "execution_count": 5,
   "metadata": {},
   "outputs": [],
   "source": [
    "from mimetypes import init\n",
    "from sympy import *\n",
    "from sympy.plotting import plot\n",
    "init_printing()\n"
   ]
  },
  {
   "cell_type": "code",
   "execution_count": 9,
   "metadata": {},
   "outputs": [
    {
     "data": {
      "text/latex": [
       "$\\displaystyle 5 X^{2} + 10 X - 30$"
      ],
      "text/plain": [
       "   2            \n",
       "5⋅X  + 10⋅X - 30"
      ]
     },
     "execution_count": 9,
     "metadata": {},
     "output_type": "execute_result"
    }
   ],
   "source": [
    "x = Symbol('X')\n",
    "y = 5*x ** 2+10*x-30\n",
    "y\n"
   ]
  },
  {
   "cell_type": "code",
   "execution_count": 11,
   "metadata": {},
   "outputs": [
    {
     "name": "stdout",
     "output_type": "stream",
     "text": [
      "    570 |                                                      /\n",
      "        |                                                     . \n",
      "        |                                                       \n",
      "        |                                                    .  \n",
      "        |                                                   /   \n",
      "        |                                                  /    \n",
      "        |                                                 /     \n",
      "        |\\                                               /      \n",
      "        | \\                                             /       \n",
      "        |  \\                                           /        \n",
      "    270 |---\\-----------------------------------------/---------\n",
      "        |    \\                                       /          \n",
      "        |     \\                                     /           \n",
      "        |      ..                                  /            \n",
      "        |        \\                                /             \n",
      "        |         ..                            ..              \n",
      "        |           \\                         ..                \n",
      "        |            ..                      /                  \n",
      "        |              ..                 ...                   \n",
      "        |                ...           ...                      \n",
      "    -30 |_______________________________________________________\n",
      "         -10                        0                          10\n"
     ]
    },
    {
     "data": {
      "text/plain": [
       "<sympy.plotting.plot.Plot at 0x1f47fadac80>"
      ]
     },
     "execution_count": 11,
     "metadata": {},
     "output_type": "execute_result"
    }
   ],
   "source": [
    "plot(y)\n"
   ]
  },
  {
   "cell_type": "code",
   "execution_count": 12,
   "metadata": {},
   "outputs": [
    {
     "data": {
      "text/latex": [
       "$\\displaystyle \\left[ -1 + \\sqrt{7}, \\  - \\sqrt{7} - 1\\right]$"
      ],
      "text/plain": [
       "[-1 + √7, -√7 - 1]"
      ]
     },
     "execution_count": 12,
     "metadata": {},
     "output_type": "execute_result"
    }
   ],
   "source": [
    "roots = solve(y)\n",
    "roots\n"
   ]
  },
  {
   "cell_type": "code",
   "execution_count": 13,
   "metadata": {},
   "outputs": [
    {
     "data": {
      "text/latex": [
       "$\\displaystyle 10 X + 10$"
      ],
      "text/plain": [
       "10⋅X + 10"
      ]
     },
     "execution_count": 13,
     "metadata": {},
     "output_type": "execute_result"
    }
   ],
   "source": [
    "pr = diff(y)\n",
    "pr\n"
   ]
  },
  {
   "cell_type": "code",
   "execution_count": 14,
   "metadata": {},
   "outputs": [
    {
     "data": {
      "text/latex": [
       "$\\displaystyle \\left[ -1\\right]$"
      ],
      "text/plain": [
       "[-1]"
      ]
     },
     "execution_count": 14,
     "metadata": {},
     "output_type": "execute_result"
    }
   ],
   "source": [
    "res_diff = solve(pr)\n",
    "res_diff\n"
   ]
  },
  {
   "cell_type": "code",
   "execution_count": 15,
   "metadata": {},
   "outputs": [
    {
     "name": "stdout",
     "output_type": "stream",
     "text": [
      "    110 |                                                     ..\n",
      "        |                                                  ...  \n",
      "        |                                                ..     \n",
      "        |                                             ...       \n",
      "        |                                          ...          \n",
      "        |                                        ..             \n",
      "        |                                     ...               \n",
      "        |                                  ...                  \n",
      "        |                                ..                     \n",
      "        |                             ...                       \n",
      "     10 |--------------------------...--------------------------\n",
      "        |                       ...                             \n",
      "        |                     ..                                \n",
      "        |                  ...                                  \n",
      "        |               ...                                     \n",
      "        |             ..                                        \n",
      "        |          ...                                          \n",
      "        |       ...                                             \n",
      "        |     ..                                                \n",
      "        |  ...                                                  \n",
      "    -90 |_______________________________________________________\n",
      "         -10                        0                          10\n"
     ]
    },
    {
     "data": {
      "text/plain": [
       "<sympy.plotting.plot.Plot at 0x1f47fadb5b0>"
      ]
     },
     "execution_count": 15,
     "metadata": {},
     "output_type": "execute_result"
    }
   ],
   "source": [
    "plot(pr)"
   ]
  },
  {
   "cell_type": "code",
   "execution_count": 16,
   "metadata": {},
   "outputs": [
    {
     "data": {
      "text/latex": [
       "$\\displaystyle -1 < X \\wedge X < \\infty$"
      ],
      "text/plain": [
       "-1 < X ∧ X < ∞"
      ]
     },
     "execution_count": 16,
     "metadata": {},
     "output_type": "execute_result"
    }
   ],
   "source": [
    "solve(pr > 0)\n"
   ]
  },
  {
   "cell_type": "code",
   "execution_count": 17,
   "metadata": {},
   "outputs": [
    {
     "data": {
      "text/latex": [
       "$\\displaystyle \\left[ \\left( -1, \\  -35\\right)\\right]$"
      ],
      "text/plain": [
       "[(-1, -35)]"
      ]
     },
     "execution_count": 17,
     "metadata": {},
     "output_type": "execute_result"
    }
   ],
   "source": [
    "lst = []\n",
    "for item in res_diff:\n",
    "    lst.append((item, y.subs(x, item)))\n",
    "\n",
    "\n",
    "lst\n"
   ]
  },
  {
   "cell_type": "code",
   "execution_count": 19,
   "metadata": {},
   "outputs": [
    {
     "data": {
      "text/latex": [
       "$\\displaystyle \\left(-\\infty < X \\wedge X < - \\sqrt{7} - 1\\right) \\vee \\left(X < \\infty \\wedge -1 + \\sqrt{7} < X\\right)$"
      ],
      "text/plain": [
       "(-∞ < X ∧ X < -√7 - 1) ∨ (X < ∞ ∧ -1 + √7 < X)"
      ]
     },
     "execution_count": 19,
     "metadata": {},
     "output_type": "execute_result"
    }
   ],
   "source": [
    "solve(y > 0)\n"
   ]
  },
  {
   "cell_type": "code",
   "execution_count": 20,
   "metadata": {},
   "outputs": [
    {
     "data": {
      "text/latex": [
       "$\\displaystyle X < -1 + \\sqrt{7} \\wedge - \\sqrt{7} - 1 < X$"
      ],
      "text/plain": [
       "X < -1 + √7 ∧ -√7 - 1 < X"
      ]
     },
     "execution_count": 20,
     "metadata": {},
     "output_type": "execute_result"
    }
   ],
   "source": [
    "solve(y < 0)"
   ]
  },
  {
   "cell_type": "code",
   "execution_count": 31,
   "metadata": {},
   "outputs": [
    {
     "data": {
      "text/latex": [
       "$\\displaystyle X^{2} - 6 \\left|{X}\\right| + 8$"
      ],
      "text/plain": [
       " 2            \n",
       "X  - 6⋅│X│ + 8"
      ]
     },
     "execution_count": 31,
     "metadata": {},
     "output_type": "execute_result"
    }
   ],
   "source": [
    "x = Symbol('X', real=True)\n",
    "y = x**2 - 6*abs(x) + 8\n",
    "y\n"
   ]
  },
  {
   "cell_type": "code",
   "execution_count": 32,
   "metadata": {},
   "outputs": [
    {
     "name": "stdout",
     "output_type": "stream",
     "text": [
      "     48 |.                                                     .\n",
      "        |                                                       \n",
      "        | .                                                   . \n",
      "        |                                                       \n",
      "        |  .                                                 .  \n",
      "        |                                                       \n",
      "        |   .                                               .   \n",
      "        |                                                       \n",
      "        |    .                                             .    \n",
      "        |     .                                           .     \n",
      "   23.5 |-------------------------------------------------------\n",
      "        |      .                                         .      \n",
      "        |       \\                                       /       \n",
      "        |        .                                     .        \n",
      "        |                                                       \n",
      "        |         .                                   .         \n",
      "        |          \\                .                /          \n",
      "        |           ..             / \\             ..           \n",
      "        |             \\           /   \\           /             \n",
      "        |              ..      ...     ...      ..              \n",
      "     -1 |_______________________________________________________\n",
      "         -10                        0                          10\n"
     ]
    },
    {
     "data": {
      "text/plain": [
       "<sympy.plotting.plot.Plot at 0x1f4802490f0>"
      ]
     },
     "execution_count": 32,
     "metadata": {},
     "output_type": "execute_result"
    }
   ],
   "source": [
    "plot(y)"
   ]
  },
  {
   "cell_type": "code",
   "execution_count": 33,
   "metadata": {},
   "outputs": [
    {
     "data": {
      "text/latex": [
       "$\\displaystyle \\left[ -4, \\  -2, \\  2, \\  4\\right]$"
      ],
      "text/plain": [
       "[-4, -2, 2, 4]"
      ]
     },
     "execution_count": 33,
     "metadata": {},
     "output_type": "execute_result"
    }
   ],
   "source": [
    "res = solve(y)\n",
    "res\n"
   ]
  },
  {
   "cell_type": "code",
   "execution_count": 34,
   "metadata": {},
   "outputs": [
    {
     "data": {
      "text/latex": [
       "$\\displaystyle 2 X - 6 \\operatorname{sign}{\\left(X \\right)}$"
      ],
      "text/plain": [
       "2⋅X - 6⋅sign(X)"
      ]
     },
     "execution_count": 34,
     "metadata": {},
     "output_type": "execute_result"
    }
   ],
   "source": [
    "difer = diff(y)\n",
    "difer"
   ]
  },
  {
   "cell_type": "code",
   "execution_count": 43,
   "metadata": {},
   "outputs": [
    {
     "data": {
      "text/latex": [
       "$\\displaystyle \\left[ -3, \\  0, \\  3\\right]$"
      ],
      "text/plain": [
       "[-3, 0, 3]"
      ]
     },
     "execution_count": 43,
     "metadata": {},
     "output_type": "execute_result"
    }
   ],
   "source": [
    "res_dif = solve(difer)\n",
    "result=[-3,0,*res_dif]\n",
    "result"
   ]
  },
  {
   "cell_type": "code",
   "execution_count": 36,
   "metadata": {},
   "outputs": [
    {
     "name": "stdout",
     "output_type": "stream",
     "text": [
      "     14 |                                                      /\n",
      "        |                                                    .. \n",
      "        |                                                  ..   \n",
      "        |                                                ..     \n",
      "        |                                              ..       \n",
      "        |                                            ..         \n",
      "        |                          .               ..           \n",
      "        |                        ..              ..             \n",
      "        |                      ..              ..               \n",
      "        |                    ..               /                 \n",
      "      0 |------------------..-------.-------..------------------\n",
      "        |                 /               ..                    \n",
      "        |               ..              ..                      \n",
      "        |             ..              ..                        \n",
      "        |           ..               .                          \n",
      "        |         ..                                            \n",
      "        |       ..                                              \n",
      "        |     ..                                                \n",
      "        |   ..                                                  \n",
      "        | ..                                                    \n",
      "    -14 |_______________________________________________________\n",
      "         -10                        0                          10\n"
     ]
    },
    {
     "data": {
      "text/plain": [
       "<sympy.plotting.plot.Plot at 0x1f480249c90>"
      ]
     },
     "execution_count": 36,
     "metadata": {},
     "output_type": "execute_result"
    }
   ],
   "source": [
    "plot(difer)"
   ]
  },
  {
   "cell_type": "code",
   "execution_count": 44,
   "metadata": {},
   "outputs": [
    {
     "data": {
      "text/latex": [
       "$\\displaystyle \\left(-3 < X \\wedge X < 0\\right) \\vee 3 < X$"
      ],
      "text/plain": [
       "(-3 < X ∧ X < 0) ∨ 3 < X"
      ]
     },
     "execution_count": 44,
     "metadata": {},
     "output_type": "execute_result"
    }
   ],
   "source": [
    "solve(difer > 0)\n"
   ]
  },
  {
   "cell_type": "code",
   "execution_count": 45,
   "metadata": {},
   "outputs": [
    {
     "data": {
      "text/latex": [
       "$\\displaystyle \\left(0 < X \\wedge X < 3\\right) \\vee X < -3$"
      ],
      "text/plain": [
       "(0 < X ∧ X < 3) ∨ X < -3"
      ]
     },
     "execution_count": 45,
     "metadata": {},
     "output_type": "execute_result"
    }
   ],
   "source": [
    "solve(difer < 0)"
   ]
  },
  {
   "cell_type": "code",
   "execution_count": 47,
   "metadata": {},
   "outputs": [
    {
     "data": {
      "text/latex": [
       "$\\displaystyle \\left[ \\left( -3, \\  -1\\right), \\  \\left( 0, \\  8\\right), \\  \\left( 3, \\  -1\\right)\\right]$"
      ],
      "text/plain": [
       "[(-3, -1), (0, 8), (3, -1)]"
      ]
     },
     "execution_count": 47,
     "metadata": {},
     "output_type": "execute_result"
    }
   ],
   "source": [
    "versh = []\n",
    "for item in result:\n",
    "    versh.append((item, y.subs(x, item)))\n",
    "versh\n"
   ]
  },
  {
   "cell_type": "code",
   "execution_count": 48,
   "metadata": {},
   "outputs": [
    {
     "data": {
      "text/latex": [
       "$\\displaystyle \\left(-4 < X \\wedge X < -2\\right) \\vee \\left(2 < X \\wedge X < 4\\right)$"
      ],
      "text/plain": [
       "(-4 < X ∧ X < -2) ∨ (2 < X ∧ X < 4)"
      ]
     },
     "execution_count": 48,
     "metadata": {},
     "output_type": "execute_result"
    }
   ],
   "source": [
    "solve(y < 0)\n"
   ]
  },
  {
   "cell_type": "code",
   "execution_count": 49,
   "metadata": {},
   "outputs": [
    {
     "data": {
      "text/latex": [
       "$\\displaystyle \\left(-2 < X \\wedge X < 2\\right) \\vee 4 < X \\vee X < -4$"
      ],
      "text/plain": [
       "(-2 < X ∧ X < 2) ∨ 4 < X ∨ X < -4"
      ]
     },
     "execution_count": 49,
     "metadata": {},
     "output_type": "execute_result"
    }
   ],
   "source": [
    "solve(y > 0)\n"
   ]
  }
 ],
 "metadata": {
  "kernelspec": {
   "display_name": "Python 3.10.8 ('venv': venv)",
   "language": "python",
   "name": "python3"
  },
  "language_info": {
   "codemirror_mode": {
    "name": "ipython",
    "version": 3
   },
   "file_extension": ".py",
   "mimetype": "text/x-python",
   "name": "python",
   "nbconvert_exporter": "python",
   "pygments_lexer": "ipython3",
   "version": "3.10.8"
  },
  "orig_nbformat": 4,
  "vscode": {
   "interpreter": {
    "hash": "8cbba1452ffeeca09207897a762d80225e10fbfa64dee94eff9180827f6c0dda"
   }
  }
 },
 "nbformat": 4,
 "nbformat_minor": 2
}
